{
 "cells": [
  {
   "cell_type": "markdown",
   "id": "49b1c587-0a82-4158-bbf1-67057f390937",
   "metadata": {},
   "source": [
    "# Import Modules"
   ]
  },
  {
   "cell_type": "code",
   "execution_count": 1,
   "id": "66d41a32-b890-4cb4-9529-d00a7fc567ea",
   "metadata": {},
   "outputs": [],
   "source": [
    "import os\n",
    "import glob\n",
    "\n",
    "os.chdir(\"..\")"
   ]
  },
  {
   "cell_type": "markdown",
   "id": "22d4e9db-975e-4176-a6c9-65759e5d1a77",
   "metadata": {},
   "source": [
    "# Build Ground Truths"
   ]
  },
  {
   "cell_type": "code",
   "execution_count": 2,
   "id": "649eb3c9-54be-4591-9eea-29279678c0b6",
   "metadata": {},
   "outputs": [],
   "source": [
    "from utils.dataset import write_ground_truth"
   ]
  },
  {
   "cell_type": "code",
   "execution_count": 3,
   "id": "8976fa56-fd3f-4f70-9275-6b97c5e3ff80",
   "metadata": {},
   "outputs": [],
   "source": [
    "dataset_files = glob.glob(\"./datasets/potrika/*.csv\")"
   ]
  },
  {
   "cell_type": "code",
   "execution_count": 4,
   "id": "96452089-1e4f-4c64-891e-c1402b1b39be",
   "metadata": {},
   "outputs": [
    {
     "data": {
      "application/vnd.jupyter.widget-view+json": {
       "model_id": "02c55110c7d64164abc02af17e7e2844",
       "version_major": 2,
       "version_minor": 0
      },
      "text/plain": [
       "  0%|          | 0/8 [00:00<?, ?it/s]"
      ]
     },
     "metadata": {},
     "output_type": "display_data"
    },
    {
     "name": "stderr",
     "output_type": "stream",
     "text": [
      "2024-01-30 18:02:42.060 | INFO     | utils.dataset:write_ground_truth:46 - Total lines: 691331\n"
     ]
    }
   ],
   "source": [
    "write_ground_truth(dataset_files, \"./datasets/potrika_gt.txt\")"
   ]
  },
  {
   "cell_type": "markdown",
   "id": "7c117e41-7d9d-4d24-870d-58e4f2d9cf4b",
   "metadata": {},
   "source": [
    "# Build Incorrects"
   ]
  },
  {
   "cell_type": "code",
   "execution_count": 5,
   "id": "b8ac3bbc-f1d3-446b-ba4f-dfdd4760f6a4",
   "metadata": {},
   "outputs": [],
   "source": [
    "text_lines = None\n",
    "with open(\"./datasets/potrika_gt.txt\") as file:\n",
    "    text_lines = file.readlines()\n",
    "    text_lines = [text.rstrip() for text in text_lines]"
   ]
  },
  {
   "cell_type": "code",
   "execution_count": 6,
   "id": "aeeed824-83dc-43f4-ab69-20e94683b04b",
   "metadata": {},
   "outputs": [],
   "source": [
    "from utils.text import apply_errors_on_many_sentences\n",
    "from utils.dataset import write_incorrects"
   ]
  },
  {
   "cell_type": "code",
   "execution_count": 7,
   "id": "55434668-ed29-4e7d-8a7a-d899a5e9b9e6",
   "metadata": {},
   "outputs": [
    {
     "data": {
      "text/plain": [
       "['কিন্তু ফের অসুস্থ বোধ করায় তাকে আবারও হাসপাতালে ভর্তি করা হয়।',\n",
       " 'তাঁর মতেও, কেন সবসময় যৌনতার প্রতীক হিসেবে মেয়েদেরকেই দেখানো হবে?',\n",
       " '‘মনের মতো মানুষ পাইলাম না’ চলচ্চিত্রের জন্য যৌথভাবে শ্রেষ্ঠ শিল্প নির্দেশক হয়েছেন রহমত উল্লাহ বাসু ও ফরিদ আহমেদ।',\n",
       " 'শাশ্বত সচদেব এবং জাসলিন রয়াল এর সঙ্গীত পরিচালনা করেছেন।',\n",
       " 'সাজিদ খানের বিরুদ্ধে বলিউড অভিনেত্রী র\\u200c্যাচেল হোয়াইটের যৌন হয়রানির অভিযোগ শুনে ক্ষেপে যান অক্ষয় কুমার।',\n",
       " 'ফলে কোন চ্যানেলে কোন নাটক প্রচারিত হচ্ছে তাও বুঝতে পারছে না দর্শক।',\n",
       " 'এই গানটিরও সঙ্গীত আয়োজন করেছেন রাজা ক্যাশেফ।',\n",
       " 'আশীর্বাদ সিনেমায় মাহির বিপরীতে চুক্তিবদ্ধ হয়েছেন রোশান।',\n",
       " 'অনেক জনপ্রিয় শিল্পী এতে অভিনয় করছেন।',\n",
       " 'তার কণ্ঠে অসংখ্য নজরুল সঙ্গীত শ্রোতারা শুনেছেন।']"
      ]
     },
     "execution_count": 7,
     "metadata": {},
     "output_type": "execute_result"
    }
   ],
   "source": [
    "text_lines[:10]"
   ]
  },
  {
   "cell_type": "code",
   "execution_count": 8,
   "id": "5c00b34e-fba6-466f-9b8a-f83eda892124",
   "metadata": {},
   "outputs": [
    {
     "data": {
      "application/vnd.jupyter.widget-view+json": {
       "model_id": "1e137a7a1b9d4fb6abb6f15785660e94",
       "version_major": 2,
       "version_minor": 0
      },
      "text/plain": [
       "  0%|          | 0/691331 [00:00<?, ?it/s]"
      ]
     },
     "metadata": {},
     "output_type": "display_data"
    },
    {
     "name": "stderr",
     "output_type": "stream",
     "text": [
      "2024-01-30 18:03:02.395 | INFO     | utils.text:apply_errors_on_many_sentences:179 - No change count: 102141\n"
     ]
    }
   ],
   "source": [
    "modified_lines = apply_errors_on_many_sentences(text_lines)"
   ]
  },
  {
   "cell_type": "code",
   "execution_count": 9,
   "id": "ea621e22-010d-450a-ab10-705a5aa17532",
   "metadata": {},
   "outputs": [
    {
     "data": {
      "text/plain": [
       "['কিন্তু ফের অসুস্থ বোধ করায় তাকে আবারও হাসপাতালে  ভর্তি  করা  হয় ।',\n",
       " 'তাঁর ড়মতেও,ভ কেন সবসময় যৌনতার প্রতীক হিসেউবঠে মেয়েদেরকযেই রদকেখাসনো হবে?',\n",
       " '‘মনের মতোভ মানুষ প়াএইলাম না’ চলচ্চিত্রের জন্য যৌথভামবে শ্রেষ্ঢ়ঠ শিল্প নির্দেশক হয়েছেন রহমত উঞল্লাহ বাসুঠ ও ফযরিদ আহমেদ।',\n",
       " 'শাশশ্বত সচদেব এবং  জাসললিন রয়াল এর সসঙ্গগীত  পরিচালনা কেরছেন।',\n",
       " 'সাজিদ খ ানভের বিরুদ্ধে বলউিউডর অখ ভিনমেড়ত্রী রন\\u200c্যাচওেল হোয়াইটের যৌন হয়রানি র অভিযোগ শইুনে ক্ষেপে যান অক্ষয় কু ম ার।',\n",
       " 'লফে কোন চ্যানেলে কোন নাঠক প্রচারিত হচ্ছে তাও বুঝতে পারছে না দর্শক।',\n",
       " 'এই  গ াটির ও সঙ্গ ী থ আয়োজন করেছেন াজা ক্যশেফ।',\n",
       " 'আশীর্বাধ সিনেমায় মাহির বিপরীতে চুক্তিবদ্ধ হয়েছেন রোশান।',\n",
       " 'অনেক জনপ্রিয় শিল্পী এতে অভিনয় করছেন।',\n",
       " 'তার কণ্ঠে  অ সংখ্ য নজরুল সঙ ্ গী ত শ ্রোতারা শুনে ছেন।']"
      ]
     },
     "execution_count": 9,
     "metadata": {},
     "output_type": "execute_result"
    }
   ],
   "source": [
    "modified_lines[:10]"
   ]
  },
  {
   "cell_type": "code",
   "execution_count": 10,
   "id": "ea284aee-51c3-4307-90a9-e09d7e67412e",
   "metadata": {},
   "outputs": [
    {
     "name": "stderr",
     "output_type": "stream",
     "text": [
      "2024-01-30 18:03:02.999 | INFO     | utils.dataset:write_incorrects:53 - Total lines: 691331\n"
     ]
    }
   ],
   "source": [
    "write_incorrects(modified_lines, \"./datasets/potrika_incorrect.txt\")"
   ]
  },
  {
   "cell_type": "code",
   "execution_count": 11,
   "id": "d3a5a20f-a8bc-41c7-b6ee-f103de7fda92",
   "metadata": {},
   "outputs": [],
   "source": [
    "exit()"
   ]
  },
  {
   "cell_type": "markdown",
   "id": "66f43dfa-bfda-4517-8d24-64e840e4e308",
   "metadata": {},
   "source": [
    "# Generate Huggingface Dataset"
   ]
  },
  {
   "cell_type": "markdown",
   "id": "cdf2ee12-48c1-49af-9e86-09e56ed59f1b",
   "metadata": {},
   "source": [
    "### Dump Pairs"
   ]
  },
  {
   "cell_type": "code",
   "execution_count": 1,
   "id": "176bc06b-4315-4f61-ad4b-8eb0211facb6",
   "metadata": {},
   "outputs": [],
   "source": [
    "import os\n",
    "\n",
    "os.chdir(\"..\")"
   ]
  },
  {
   "cell_type": "code",
   "execution_count": 2,
   "id": "f96ce19a-6d7e-4267-9ff6-2f89c1d6f709",
   "metadata": {},
   "outputs": [],
   "source": [
    "import json"
   ]
  },
  {
   "cell_type": "code",
   "execution_count": 3,
   "id": "375ce0c3-6da8-42c9-8597-6912b6849cdf",
   "metadata": {},
   "outputs": [],
   "source": [
    "def load_txt_files(path):\n",
    "    with open(path) as file:\n",
    "        lines = file.readlines()\n",
    "        lines = [line.rstrip() for line in lines]\n",
    "    return lines"
   ]
  },
  {
   "cell_type": "code",
   "execution_count": 4,
   "id": "399c765d-c52c-4b7d-add1-07a0642db93f",
   "metadata": {},
   "outputs": [],
   "source": [
    "def split_dataset_into(dataset: list, proportion: float = 0.8):\n",
    "    train_size = int(len(dataset) * proportion)\n",
    "    return dataset[:train_size], dataset[train_size:]"
   ]
  },
  {
   "cell_type": "code",
   "execution_count": 5,
   "id": "2447a538-9572-4210-844e-74b4b2a8a409",
   "metadata": {},
   "outputs": [],
   "source": [
    "def write_to_jsonl(dataset, path: str):\n",
    "    with open(path, \"w\") as file:\n",
    "        json.dump(dataset, file)\n",
    "    print(\"Done!\")"
   ]
  },
  {
   "cell_type": "code",
   "execution_count": 6,
   "id": "f60914f5-330f-4326-b69d-767130aa943d",
   "metadata": {},
   "outputs": [],
   "source": [
    "to_sentences = load_txt_files(\"./datasets/potrika_gt.txt\")\n",
    "from_sentences = load_txt_files(\"./datasets/potrika_incorrect.txt\")\n",
    "dataset = [{\"from\": k, \"to\": v} for k, v in zip(from_sentences, to_sentences)]\n",
    "\n",
    "train_dataset, val_dataset = split_dataset_into(dataset, 0.8)\n",
    "val_dataset, test_dataset = split_dataset_into(val_dataset, 0.5)"
   ]
  },
  {
   "cell_type": "code",
   "execution_count": 7,
   "id": "117e871b-7782-45e9-9d5f-a584d5593dad",
   "metadata": {},
   "outputs": [
    {
     "name": "stdout",
     "output_type": "stream",
     "text": [
      "Done!\n",
      "Done!\n",
      "Done!\n"
     ]
    }
   ],
   "source": [
    "write_to_jsonl(train_dataset, \"./datasets/correction_train.jsonl\")\n",
    "write_to_jsonl(test_dataset, \"./datasets/correction_test.jsonl\")\n",
    "write_to_jsonl(val_dataset, \"./datasets/correction_val.jsonl\")"
   ]
  },
  {
   "cell_type": "code",
   "execution_count": 8,
   "id": "71f08635-186e-48e9-b44d-de568287f5e9",
   "metadata": {},
   "outputs": [],
   "source": [
    "exit()"
   ]
  },
  {
   "cell_type": "markdown",
   "id": "7bfef4fd-5542-4d42-aba6-276418990941",
   "metadata": {},
   "source": [
    "## Generate HF Dataset"
   ]
  },
  {
   "cell_type": "code",
   "execution_count": 1,
   "id": "3601b40b-d783-4b35-a191-a87b8f69173a",
   "metadata": {},
   "outputs": [],
   "source": [
    "import os\n",
    "\n",
    "os.chdir(\"..\")"
   ]
  },
  {
   "cell_type": "code",
   "execution_count": 2,
   "id": "0084a584-cea3-4c0e-bdb8-fa0770039519",
   "metadata": {},
   "outputs": [],
   "source": [
    "from datasets import load_dataset"
   ]
  },
  {
   "cell_type": "code",
   "execution_count": 3,
   "id": "a7964f95-b91e-429d-aa78-62766a1cb62e",
   "metadata": {},
   "outputs": [],
   "source": [
    "split_config = {\n",
    "    \"train\": \"./datasets/correction_train.jsonl\",\n",
    "    \"test\": \"./datasets/correction_test.jsonl\",\n",
    "    \"val\": \"./datasets/correction_val.jsonl\",\n",
    "}"
   ]
  },
  {
   "cell_type": "code",
   "execution_count": 4,
   "id": "6b7b77bf-9dbc-4f46-bd44-5df8c27cf93a",
   "metadata": {},
   "outputs": [],
   "source": [
    "dataset = load_dataset(\"json\", data_files=split_config)"
   ]
  },
  {
   "cell_type": "code",
   "execution_count": 8,
   "id": "e769f1bd-5397-4036-a652-4e7d614f582b",
   "metadata": {},
   "outputs": [
    {
     "data": {
      "application/vnd.jupyter.widget-view+json": {
       "model_id": "d3768752cb04470786a0a0abf3f8b345",
       "version_major": 2,
       "version_minor": 0
      },
      "text/plain": [
       "Map:   0%|          | 0/553064 [00:00<?, ? examples/s]"
      ]
     },
     "metadata": {},
     "output_type": "display_data"
    },
    {
     "data": {
      "application/vnd.jupyter.widget-view+json": {
       "model_id": "1d9ad785f60a4f058a532c565595442e",
       "version_major": 2,
       "version_minor": 0
      },
      "text/plain": [
       "Map:   0%|          | 0/69134 [00:00<?, ? examples/s]"
      ]
     },
     "metadata": {},
     "output_type": "display_data"
    },
    {
     "data": {
      "application/vnd.jupyter.widget-view+json": {
       "model_id": "b86b6644e08444cba3a015851fe3dbef",
       "version_major": 2,
       "version_minor": 0
      },
      "text/plain": [
       "Map:   0%|          | 0/69133 [00:00<?, ? examples/s]"
      ]
     },
     "metadata": {},
     "output_type": "display_data"
    }
   ],
   "source": [
    "dataset = dataset.map(\n",
    "    lambda x: {\"from\": \"00xx00\" + x[\"from\"], \"to\": \"00xx00\" + x[\"to\"]}\n",
    ")"
   ]
  },
  {
   "cell_type": "code",
   "execution_count": 9,
   "id": "2ce567ce-16c1-4ec4-87d6-aff0ff948084",
   "metadata": {},
   "outputs": [
    {
     "data": {
      "text/plain": [
       "{'from': '00xx00কিন্তু ফের অসুস্থ বোধ করায় তাকে আবারও হাসপাতালে  ভর্তি  করা  হয় ।',\n",
       " 'to': '00xx00কিন্তু ফের অসুস্থ বোধ করায় তাকে আবারও হাসপাতালে ভর্তি করা হয়।'}"
      ]
     },
     "execution_count": 9,
     "metadata": {},
     "output_type": "execute_result"
    }
   ],
   "source": [
    "dataset[\"train\"][0]"
   ]
  }
 ],
 "metadata": {
  "kernelspec": {
   "display_name": "Python 3 (ipykernel)",
   "language": "python",
   "name": "python3"
  },
  "language_info": {
   "codemirror_mode": {
    "name": "ipython",
    "version": 3
   },
   "file_extension": ".py",
   "mimetype": "text/x-python",
   "name": "python",
   "nbconvert_exporter": "python",
   "pygments_lexer": "ipython3",
   "version": "3.11.7"
  }
 },
 "nbformat": 4,
 "nbformat_minor": 5
}
