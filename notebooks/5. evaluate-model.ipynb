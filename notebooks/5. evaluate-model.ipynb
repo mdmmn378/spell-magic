{
 "cells": [
  {
   "cell_type": "markdown",
   "id": "19d34cb4-3967-4ad7-983f-1d62b144ec38",
   "metadata": {},
   "source": [
    "# Load Modules"
   ]
  },
  {
   "cell_type": "code",
   "execution_count": 1,
   "id": "ebd21818-a7c5-468c-a013-98063887c7a4",
   "metadata": {},
   "outputs": [],
   "source": [
    "import os\n",
    "\n",
    "os.chdir(\"..\")"
   ]
  },
  {
   "cell_type": "code",
   "execution_count": 2,
   "id": "8b09999a-8b5c-4b9f-9be4-6662566daebc",
   "metadata": {},
   "outputs": [],
   "source": [
    "from transformers import AutoTokenizer\n",
    "from utils.tokenizer import TokenizerPreprocessor\n",
    "from datasets import load_dataset\n",
    "from evaluate import evaluator\n",
    "\n",
    "from transformers import (\n",
    "    AutoModelForSeq2SeqLM,\n",
    "    DataCollatorForSeq2Seq,\n",
    "    Seq2SeqTrainingArguments,\n",
    ")"
   ]
  },
  {
   "cell_type": "markdown",
   "id": "6f18e072-bdfd-4c5f-818a-3bfa0c26d6b9",
   "metadata": {},
   "source": [
    "# Setup "
   ]
  },
  {
   "cell_type": "code",
   "execution_count": 3,
   "id": "a8bcd487-13ef-46cf-b341-a43d091ba04a",
   "metadata": {},
   "outputs": [],
   "source": [
    "MODEL_CHECKPOINT = \"./model_artifacts/exported_model_pt/\""
   ]
  },
  {
   "cell_type": "code",
   "execution_count": 4,
   "id": "13450f6a-a2b8-4c1c-8c2c-8adf6c00536c",
   "metadata": {},
   "outputs": [],
   "source": [
    "SPLIT_CONFIG = {\"test\": \"./datasets/correction_test.jsonl\"}"
   ]
  },
  {
   "cell_type": "code",
   "execution_count": 5,
   "id": "d4068f08-70c1-4523-b083-b78a9076aaad",
   "metadata": {},
   "outputs": [],
   "source": [
    "model = AutoModelForSeq2SeqLM.from_pretrained(MODEL_CHECKPOINT)"
   ]
  },
  {
   "cell_type": "code",
   "execution_count": 6,
   "id": "57d64dd4-a037-48a6-8a2d-e1e62650ff3f",
   "metadata": {},
   "outputs": [],
   "source": [
    "tokenizer = AutoTokenizer.from_pretrained(MODEL_CHECKPOINT, legacy=True)\n",
    "tp = TokenizerPreprocessor(\n",
    "    tokenizer=tokenizer,\n",
    "    max_input_length=128,\n",
    "    max_target_length=128,\n",
    ")\n",
    "\n",
    "raw_datasets = load_dataset(\"json\", data_files=SPLIT_CONFIG)\n",
    "tokenized_datasets = raw_datasets.map(tp, batched=True)"
   ]
  },
  {
   "cell_type": "markdown",
   "id": "e97c5b67-0b47-4d1e-aa24-c298d255da7b",
   "metadata": {},
   "source": [
    "# Evaluate (Default)"
   ]
  },
  {
   "cell_type": "code",
   "execution_count": 7,
   "id": "9a150286-9068-4eed-a2b8-c0556a2102bf",
   "metadata": {},
   "outputs": [],
   "source": [
    "task_evaluator = evaluator(\"text2text-generation\")"
   ]
  },
  {
   "cell_type": "code",
   "execution_count": 8,
   "id": "fb040253-cc82-4b51-8756-fc1b6ff7cc5f",
   "metadata": {},
   "outputs": [
    {
     "data": {
      "text/plain": [
       "{'bleu': 0.22899090475744432,\n",
       " 'precisions': [0.5906562847608454,\n",
       "  0.42094017094017094,\n",
       "  0.31414473684210525,\n",
       "  0.2427870744373918],\n",
       " 'brevity_penalty': 0.6170787554426814,\n",
       " 'length_ratio': 0.6744186046511628,\n",
       " 'translation_length': 9889,\n",
       " 'reference_length': 14663,\n",
       " 'total_time_in_seconds': 77.96180178200302,\n",
       " 'samples_per_second': 12.82679436778799,\n",
       " 'latency_in_seconds': 0.07796180178200302}"
      ]
     },
     "execution_count": 8,
     "metadata": {},
     "output_type": "execute_result"
    }
   ],
   "source": [
    "task_evaluator.compute(\n",
    "    model_or_pipeline=model,\n",
    "    data=raw_datasets[\"test\"].shuffle(42).select(range(1000)),\n",
    "    tokenizer=tokenizer,\n",
    "    input_column=\"from\",\n",
    "    label_column=\"to\",\n",
    ")"
   ]
  },
  {
   "cell_type": "markdown",
   "id": "c5da3057-4c17-4945-ad03-eb80983bd383",
   "metadata": {},
   "source": [
    "# Evaluate (Trainer)"
   ]
  },
  {
   "cell_type": "code",
   "execution_count": 9,
   "id": "552e73f2-3132-4809-add5-09ceac6afeeb",
   "metadata": {},
   "outputs": [],
   "source": [
    "from utils.metrics import CustomTrainer"
   ]
  },
  {
   "cell_type": "code",
   "execution_count": 10,
   "id": "3ab066c0-3dad-4746-a753-0a05d2c6aa05",
   "metadata": {},
   "outputs": [],
   "source": [
    "data_collator = DataCollatorForSeq2Seq(tokenizer)"
   ]
  },
  {
   "cell_type": "code",
   "execution_count": 11,
   "id": "32a017d8-87bd-423c-a460-8c618c8e01c5",
   "metadata": {},
   "outputs": [],
   "source": [
    "args = Seq2SeqTrainingArguments(\n",
    "    \"./results/eval_run\",\n",
    "    evaluation_strategy=\"epoch\",\n",
    "    per_device_eval_batch_size=32,\n",
    "    weight_decay=0.01,\n",
    "    predict_with_generate=True,\n",
    "    fp16=False,\n",
    "    logging_steps=1,\n",
    "    push_to_hub=False,\n",
    "    logging_strategy=\"steps\",\n",
    "    report_to=[],\n",
    "    greater_is_better=False,\n",
    "    dataloader_pin_memory=True,\n",
    ")"
   ]
  },
  {
   "cell_type": "code",
   "execution_count": 12,
   "id": "8bb8a67f-edba-4b61-80d4-6c1c4c46f90e",
   "metadata": {},
   "outputs": [],
   "source": [
    "trainer = CustomTrainer(\n",
    "    model,\n",
    "    args,\n",
    "    eval_dataset=tokenized_datasets[\"test\"].select(range(16 * 3)),\n",
    "    data_collator=data_collator,\n",
    "    tokenizer=tokenizer,\n",
    "    show_extra_metrics=True,\n",
    ")"
   ]
  },
  {
   "cell_type": "code",
   "execution_count": 13,
   "id": "fece99e4-9851-483e-b22c-c6e36e4fbf27",
   "metadata": {},
   "outputs": [
    {
     "name": "stderr",
     "output_type": "stream",
     "text": [
      "You're using a T5TokenizerFast tokenizer. Please note that with a fast tokenizer, using the `__call__` method is faster than using a method to encode the text followed by a call to the `pad` method to get a padded encoding.\n"
     ]
    },
    {
     "data": {
      "text/html": [
       "\n",
       "    <div>\n",
       "      \n",
       "      <progress value='2' max='2' style='width:300px; height:20px; vertical-align: middle;'></progress>\n",
       "      [2/2 00:00]\n",
       "    </div>\n",
       "    "
      ],
      "text/plain": [
       "<IPython.core.display.HTML object>"
      ]
     },
     "metadata": {},
     "output_type": "display_data"
    },
    {
     "data": {
      "text/plain": [
       "{'eval_loss': 1.932665467262268,\n",
       " 'eval_bleu': 22.1788,\n",
       " 'eval_wer': 0.5864,\n",
       " 'eval_cer': 0.4602,\n",
       " 'eval_gen_len': 14.2708,\n",
       " 'eval_runtime': 0.3546,\n",
       " 'eval_samples_per_second': 135.367,\n",
       " 'eval_steps_per_second': 5.64}"
      ]
     },
     "execution_count": 13,
     "metadata": {},
     "output_type": "execute_result"
    }
   ],
   "source": [
    "trainer.evaluate()"
   ]
  },
  {
   "cell_type": "markdown",
   "id": "4f8bce38-3111-4d0c-a862-5bc0b65ca1e8",
   "metadata": {},
   "source": [
    "# Evaluate (Manual)"
   ]
  },
  {
   "cell_type": "code",
   "execution_count": 14,
   "id": "89267edc-a8a7-41f4-840c-65de1d138837",
   "metadata": {},
   "outputs": [],
   "source": [
    "import torch"
   ]
  },
  {
   "cell_type": "code",
   "execution_count": 15,
   "id": "cad2e2a2-7b33-4b07-aee5-cf7d7843e6cf",
   "metadata": {},
   "outputs": [],
   "source": [
    "text = \"আজ শুক্রাবার\""
   ]
  },
  {
   "cell_type": "code",
   "execution_count": 16,
   "id": "72c07792-4f9b-48d9-a768-7c37f41a1f98",
   "metadata": {},
   "outputs": [],
   "source": [
    "with torch.inference_mode():\n",
    "    tokenized_text = tokenizer(text, return_tensors=\"pt\")\n",
    "    output = model.generate(inputs=tokenized_text.input_ids.cuda(), max_new_tokens=128)"
   ]
  },
  {
   "cell_type": "code",
   "execution_count": 17,
   "id": "0cc08622-abe7-4d10-81da-af5a0e77b953",
   "metadata": {},
   "outputs": [
    {
     "data": {
      "text/plain": [
       "['<pad><extra_id_0> শুক্রাবার।</s>']"
      ]
     },
     "execution_count": 17,
     "metadata": {},
     "output_type": "execute_result"
    }
   ],
   "source": [
    "tokenizer.batch_decode(output)"
   ]
  },
  {
   "cell_type": "code",
   "execution_count": null,
   "id": "b01e868b-7f38-47e2-bada-0a29902f309d",
   "metadata": {},
   "outputs": [],
   "source": []
  }
 ],
 "metadata": {
  "kernelspec": {
   "display_name": "Python 3 (ipykernel)",
   "language": "python",
   "name": "python3"
  },
  "language_info": {
   "codemirror_mode": {
    "name": "ipython",
    "version": 3
   },
   "file_extension": ".py",
   "mimetype": "text/x-python",
   "name": "python",
   "nbconvert_exporter": "python",
   "pygments_lexer": "ipython3",
   "version": "3.11.7"
  }
 },
 "nbformat": 4,
 "nbformat_minor": 5
}
